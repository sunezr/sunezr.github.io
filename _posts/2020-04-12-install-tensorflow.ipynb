{
 "cells": [
  {
   "cell_type": "markdown",
   "metadata": {},
   "source": [
    "# Install tensorflow "
   ]
  },
  {
   "cell_type": "markdown",
   "metadata": {},
   "source": [
    "window install tensorflow(GPU unknow)\n",
    "\n",
    "$ conda install -c conda-forge tensorflow \n",
    "\n",
    "reference:https://anaconda.org/conda-forge/tensorflow\n",
    "\n",
    "https://docs.anaconda.com/anaconda/user-guide/tasks/tensorflow/\n",
    "\n",
    "error: https://github.com/tensorflow/tensorflow/issues/35749\n",
    "\n",
    "1. https://support.microsoft.com/en-us/help/2977003/the-latest-supported-visual-c-downloads\n",
    "\n",
    "2. download x64: vc_redist.x64.exe\n",
    "\n",
    "3. install it."
   ]
  },
  {
   "cell_type": "code",
   "execution_count": 1,
   "metadata": {},
   "outputs": [],
   "source": [
    "import tensorflow as tf"
   ]
  },
  {
   "cell_type": "code",
   "execution_count": 2,
   "metadata": {},
   "outputs": [
    {
     "name": "stdout",
     "output_type": "stream",
     "text": [
      "tensorflow version: 2.1.0\r\n"
     ]
    }
   ],
   "source": [
    "tf.print(\"tensorflow version:\", tf.__version__)"
   ]
  }
 ],
 "metadata": {
  "kernelspec": {
   "display_name": "Python (myenv)",
   "language": "python",
   "name": "myenv"
  },
  "language_info": {
   "codemirror_mode": {
    "name": "ipython",
    "version": 3
   },
   "file_extension": ".py",
   "mimetype": "text/x-python",
   "name": "python",
   "nbconvert_exporter": "python",
   "pygments_lexer": "ipython3",
   "version": "3.7.3"
  }
 },
 "nbformat": 4,
 "nbformat_minor": 2
}
